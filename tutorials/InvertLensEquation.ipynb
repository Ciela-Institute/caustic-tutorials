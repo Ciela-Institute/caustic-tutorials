{
 "cells": [
  {
   "cell_type": "markdown",
   "id": "b7d08f1d",
   "metadata": {},
   "source": [
    "# Inverting the Lens Equation\n",
    "\n",
    "The lens equation $\\vec{\\beta} = \\vec{\\theta} - \\vec{\\alpha}(\\vec{\\theta})$ allows us to find a point in the source plane given a point in the image plane. However, sometimes we know a point in the source plane and would like to see where it ends up in the image plane. This is not easy to do since a point in the source plane may map to multiple locations in the image plane. There is no closed form function to invert the lens equation, in large part because the deflection angle $\\vec{\\alpha}$ depends on the position in the image plane $\\vec{\\theta}$. To invert the lens equation, we will need to rely on optimization and a little luck to find all the images for a given source plane point. Below we will demonstrate how this is done in caustic!"
   ]
  },
  {
   "cell_type": "code",
   "execution_count": 1,
   "id": "4027aaf9",
   "metadata": {},
   "outputs": [],
   "source": [
    "%load_ext autoreload\n",
    "%autoreload 2\n",
    "\n",
    "from functools import partial \n",
    "\n",
    "import torch\n",
    "from torch.nn.functional import avg_pool2d\n",
    "import matplotlib.pyplot as plt\n",
    "from ipywidgets import interact\n",
    "from astropy.io import fits\n",
    "import numpy as np\n",
    "\n",
    "import caustic"
   ]
  },
  {
   "cell_type": "code",
   "execution_count": 2,
   "id": "2118e1c1",
   "metadata": {},
   "outputs": [],
   "source": [
    "# initialization stuff for an SIE lens\n",
    "\n",
    "cosmology = caustic.FlatLambdaCDM(name = \"cosmo\")\n",
    "cosmology.to(dtype=torch.float32)\n",
    "n_pix = 100\n",
    "res = 0.05\n",
    "upsample_factor = 2\n",
    "fov = res * n_pix\n",
    "thx, thy = caustic.get_meshgrid(res/upsample_factor, upsample_factor*n_pix, upsample_factor*n_pix, dtype=torch.float32)\n",
    "z_l = torch.tensor(0.5, dtype=torch.float32)\n",
    "z_s = torch.tensor(1.5, dtype=torch.float32)\n",
    "lens = caustic.SIE(\n",
    "    cosmology = cosmology, \n",
    "    name = \"sie\",\n",
    "    z_l = z_l,\n",
    "    x0 = torch.tensor(0.),\n",
    "    y0 = torch.tensor(0.),\n",
    "    q = torch.tensor(0.4),\n",
    "    phi = torch.tensor(np.pi/5),\n",
    "    b = torch.tensor(1.),\n",
    ")"
   ]
  },
  {
   "cell_type": "code",
   "execution_count": 3,
   "id": "aff78b6d",
   "metadata": {},
   "outputs": [
    {
     "data": {
      "image/png": "[encoded data removed]",
      "text/plain": [
       "<Figure size 640x480 with 1 Axes>"
      ]
     },
     "metadata": {},
     "output_type": "display_data"
    }
   ],
   "source": [
    "# For the sake of visualization, we will show the critical lines. If you want to know more, see the \"VisualizeCaustics.ipynb\" tutorial\n",
    "\n",
    "J = lens.jacobian_reduced_deflection_angle(thx, thy, z_s)\n",
    "\n",
    "A = torch.eye(2) - J\n",
    "detA = torch.linalg.det(A)\n",
    "\n",
    "fig, ax = plt.subplots()\n",
    "\n",
    "CS = ax.contour(thx, thy, detA, levels = [0.], colors = \"b\")\n",
    "# Get the path from the matplotlib contour plot of the critical line\n",
    "paths = CS.collections[0].get_paths()\n",
    "caustic_paths = []\n",
    "for path in paths:\n",
    "    # Collect the path into a descrete set of points\n",
    "    vertices = path.interpolated(5).vertices\n",
    "    x1 = torch.tensor(list(float(vs[0]) for vs in vertices))\n",
    "    x2 = torch.tensor(list(float(vs[1]) for vs in vertices))\n",
    "    # raytrace the points to the source plane\n",
    "    y1,y2 = lens.raytrace(x1, x2, z_s)\n",
    "\n",
    "    # Plot the caustic\n",
    "    ax.plot(y1,y2, color = \"r\")\n",
    "plt.show()"
   ]
  },
  {
   "cell_type": "code",
   "execution_count": 5,
   "id": "98e46aa1",
   "metadata": {},
   "outputs": [
    {
     "name": "stdout",
     "output_type": "stream",
     "text": [
      "torch.Size([2]) torch.Size([2])\n",
      "torch.Size([15, 2]) torch.Size([15, 2, 2])\n"
     ]
    },
    {
     "ename": "RuntimeError",
     "evalue": "The size of tensor a (2) must match the size of tensor b (15) at non-singleton dimension 1",
     "output_type": "error",
     "traceback": [
      "\u001b[0;31m---------------------------------------------------------------------------\u001b[0m",
      "\u001b[0;31mRuntimeError\u001b[0m                              Traceback (most recent call last)",
      "Cell \u001b[0;32mIn[5], line 5\u001b[0m\n\u001b[1;32m      3\u001b[0m sp_y \u001b[38;5;241m=\u001b[39m torch\u001b[38;5;241m.\u001b[39mtensor((\u001b[38;5;241m0.2\u001b[39m, \u001b[38;5;241m-\u001b[39m\u001b[38;5;241m1\u001b[39m))\u001b[38;5;241m.\u001b[39mreshape(\u001b[38;5;241m2\u001b[39m)\n\u001b[1;32m      4\u001b[0m \u001b[38;5;28mprint\u001b[39m(sp_x\u001b[38;5;241m.\u001b[39mshape, sp_y\u001b[38;5;241m.\u001b[39mshape)\n\u001b[0;32m----> 5\u001b[0m res \u001b[38;5;241m=\u001b[39m \u001b[43mcaustic\u001b[49m\u001b[38;5;241;43m.\u001b[39;49m\u001b[43mforward_raytrace\u001b[49m\u001b[43m(\u001b[49m\n\u001b[1;32m      6\u001b[0m \u001b[43m    \u001b[49m\u001b[43msp_x\u001b[49m\u001b[43m,\u001b[49m\u001b[43m \u001b[49m\n\u001b[1;32m      7\u001b[0m \u001b[43m    \u001b[49m\u001b[43msp_y\u001b[49m\u001b[43m,\u001b[49m\u001b[43m \u001b[49m\n\u001b[1;32m      8\u001b[0m \u001b[43m    \u001b[49m\u001b[38;5;28;43;01mlambda\u001b[39;49;00m\u001b[43m \u001b[49m\u001b[43mx\u001b[49m\u001b[43m,\u001b[49m\u001b[43m \u001b[49m\u001b[43my\u001b[49m\u001b[43m:\u001b[49m\u001b[43m \u001b[49m\u001b[43mtorch\u001b[49m\u001b[38;5;241;43m.\u001b[39;49m\u001b[43mstack\u001b[49m\u001b[43m(\u001b[49m\u001b[43mlens\u001b[49m\u001b[38;5;241;43m.\u001b[39;49m\u001b[43mreduced_deflection_angle\u001b[49m\u001b[43m(\u001b[49m\u001b[43mx\u001b[49m\u001b[43m,\u001b[49m\u001b[43m \u001b[49m\u001b[43my\u001b[49m\u001b[43m,\u001b[49m\u001b[43m \u001b[49m\u001b[43mz_s\u001b[49m\u001b[43m \u001b[49m\u001b[38;5;241;43m=\u001b[39;49m\u001b[43m \u001b[49m\u001b[43mz_s\u001b[49m\u001b[43m)\u001b[49m\u001b[43m)\u001b[49m\u001b[43m,\u001b[49m\u001b[43m \u001b[49m\n\u001b[1;32m      9\u001b[0m \u001b[43m    \u001b[49m\u001b[43mn_images\u001b[49m\u001b[43m \u001b[49m\u001b[38;5;241;43m=\u001b[39;49m\u001b[43m \u001b[49m\u001b[38;5;241;43m4\u001b[39;49m\u001b[43m,\u001b[49m\n\u001b[1;32m     10\u001b[0m \u001b[43m    \u001b[49m\u001b[43mthetax_range\u001b[49m\u001b[43m \u001b[49m\u001b[38;5;241;43m=\u001b[39;49m\u001b[43m \u001b[49m\u001b[43m(\u001b[49m\u001b[38;5;241;43m-\u001b[39;49m\u001b[43mfov\u001b[49m\u001b[38;5;241;43m/\u001b[39;49m\u001b[38;5;241;43m2\u001b[39;49m\u001b[43m,\u001b[49m\u001b[43m \u001b[49m\u001b[43mfov\u001b[49m\u001b[38;5;241;43m/\u001b[39;49m\u001b[38;5;241;43m2\u001b[39;49m\u001b[43m)\u001b[49m\u001b[43m,\u001b[49m\n\u001b[1;32m     11\u001b[0m \u001b[43m    \u001b[49m\u001b[43mthetay_range\u001b[49m\u001b[43m \u001b[49m\u001b[38;5;241;43m=\u001b[39;49m\u001b[43m \u001b[49m\u001b[43m(\u001b[49m\u001b[38;5;241;43m-\u001b[39;49m\u001b[43mfov\u001b[49m\u001b[38;5;241;43m/\u001b[39;49m\u001b[38;5;241;43m2\u001b[39;49m\u001b[43m,\u001b[49m\u001b[43m \u001b[49m\u001b[43mfov\u001b[49m\u001b[38;5;241;43m/\u001b[39;49m\u001b[38;5;241;43m2\u001b[39;49m\u001b[43m)\u001b[49m\u001b[43m,\u001b[49m\n\u001b[1;32m     12\u001b[0m \u001b[43m)\u001b[49m\n",
      "File \u001b[0;32m~/Programming/caustic/caustic/forward_raytrace.py:63\u001b[0m, in \u001b[0;36mforward_raytrace\u001b[0;34m(beta_x, beta_y, get_beta_hat, n_images, thetax_range, thetay_range, n_guesses, LM_damping, max_iters_guesses, max_iters_final)\u001b[0m\n\u001b[1;32m     61\u001b[0m thetaxy_0s \u001b[38;5;241m=\u001b[39m fov[\u001b[38;5;28;01mNone\u001b[39;00m, :] \u001b[38;5;241m*\u001b[39m torch\u001b[38;5;241m.\u001b[39mrand(n_guesses, \u001b[38;5;241m2\u001b[39m) \u001b[38;5;241m+\u001b[39m thetaxy_min[\u001b[38;5;28;01mNone\u001b[39;00m, :]\n\u001b[1;32m     62\u001b[0m \u001b[38;5;28mprint\u001b[39m(thetaxy_0s\u001b[38;5;241m.\u001b[39mshape, bxy\u001b[38;5;241m.\u001b[39mrepeat(n_guesses, \u001b[38;5;241m1\u001b[39m, \u001b[38;5;241m1\u001b[39m)\u001b[38;5;241m.\u001b[39mshape)\n\u001b[0;32m---> 63\u001b[0m thetaxys \u001b[38;5;241m=\u001b[39m \u001b[43mminimize_levmarq\u001b[49m\u001b[43m(\u001b[49m\n\u001b[1;32m     64\u001b[0m \u001b[43m    \u001b[49m\u001b[43mthetaxy_0s\u001b[49m\u001b[43m,\u001b[49m\n\u001b[1;32m     65\u001b[0m \u001b[43m    \u001b[49m\u001b[43mbxy\u001b[49m\u001b[38;5;241;43m.\u001b[39;49m\u001b[43mrepeat\u001b[49m\u001b[43m(\u001b[49m\u001b[43mn_guesses\u001b[49m\u001b[43m,\u001b[49m\u001b[43m \u001b[49m\u001b[38;5;241;43m1\u001b[39;49m\u001b[43m,\u001b[49m\u001b[43m \u001b[49m\u001b[38;5;241;43m1\u001b[39;49m\u001b[43m)\u001b[49m\u001b[43m,\u001b[49m\n\u001b[1;32m     66\u001b[0m \u001b[43m    \u001b[49m\u001b[43mget_beta_hat\u001b[49m\u001b[43m,\u001b[49m\n\u001b[1;32m     67\u001b[0m \u001b[43m    \u001b[49m\u001b[43mlam\u001b[49m\u001b[38;5;241;43m=\u001b[39;49m\u001b[43mLM_damping\u001b[49m\u001b[43m,\u001b[49m\n\u001b[1;32m     68\u001b[0m \u001b[43m    \u001b[49m\u001b[43mmax_iters\u001b[49m\u001b[38;5;241;43m=\u001b[39;49m\u001b[43mmax_iters_guesses\u001b[49m\u001b[43m,\u001b[49m\n\u001b[1;32m     69\u001b[0m \u001b[43m\u001b[49m\u001b[43m)\u001b[49m\n\u001b[1;32m     70\u001b[0m \u001b[38;5;66;03m# If the batch contains one point that optimizes poorly, the whole batch\u001b[39;00m\n\u001b[1;32m     71\u001b[0m \u001b[38;5;66;03m# can fail. If that happens, rerun with new guesses until it doesn't.\u001b[39;00m\n\u001b[1;32m     72\u001b[0m \u001b[38;5;28;01mif\u001b[39;00m (thetaxys \u001b[38;5;241m!=\u001b[39m thetaxy_0s)\u001b[38;5;241m.\u001b[39many():\n",
      "File \u001b[0;32m~/venvs/PY39/lib/python3.9/site-packages/levmarq_torch/__init__.py:72\u001b[0m, in \u001b[0;36mminimize_levmarq\u001b[0;34m(xs, ys, get_y_hat, eps_metric, lam, eps_grad, eps_x, eps_reduced_chi2, lam_decrease_factor, lam_increase_factor, max_iters, small_number, lam_min, lam_max)\u001b[0m\n\u001b[1;32m     69\u001b[0m get_jac \u001b[38;5;241m=\u001b[39m functorch\u001b[38;5;241m.\u001b[39mvmap(\u001b[38;5;28;01mlambda\u001b[39;00m x: functorch\u001b[38;5;241m.\u001b[39mjacrev(get_y_hat, argnums)(\u001b[38;5;241m*\u001b[39mx))\n\u001b[1;32m     71\u001b[0m H_perturbation \u001b[38;5;241m=\u001b[39m small_number \u001b[38;5;241m*\u001b[39m torch\u001b[38;5;241m.\u001b[39meye(n, device\u001b[38;5;241m=\u001b[39mxs\u001b[38;5;241m.\u001b[39mdevice)\u001b[38;5;241m.\u001b[39mrepeat(b, \u001b[38;5;241m1\u001b[39m, \u001b[38;5;241m1\u001b[39m)\n\u001b[0;32m---> 72\u001b[0m chi2_prevs \u001b[38;5;241m=\u001b[39m ((\u001b[43mys\u001b[49m\u001b[43m \u001b[49m\u001b[38;5;241;43m-\u001b[39;49m\u001b[43m \u001b[49m\u001b[43mget_y_hat_v\u001b[49m\u001b[43m(\u001b[49m\u001b[43mxs\u001b[49m\u001b[43m)\u001b[49m) \u001b[38;5;241m*\u001b[39m\u001b[38;5;241m*\u001b[39m \u001b[38;5;241m2\u001b[39m)\u001b[38;5;241m.\u001b[39msum(\u001b[38;5;241m-\u001b[39m\u001b[38;5;241m1\u001b[39m)\n\u001b[1;32m     74\u001b[0m \u001b[38;5;28;01mfor\u001b[39;00m _ \u001b[38;5;129;01min\u001b[39;00m \u001b[38;5;28mrange\u001b[39m(max_iters):\n\u001b[1;32m     75\u001b[0m     \u001b[38;5;66;03m# Reduced chi^2 convergence check\u001b[39;00m\n\u001b[1;32m     76\u001b[0m     \u001b[38;5;28;01mif\u001b[39;00m (\n\u001b[1;32m     77\u001b[0m         eps_reduced_chi2 \u001b[38;5;129;01mis\u001b[39;00m \u001b[38;5;129;01mnot\u001b[39;00m \u001b[38;5;28;01mNone\u001b[39;00m\n\u001b[1;32m     78\u001b[0m         \u001b[38;5;129;01mand\u001b[39;00m chi2_prevs\u001b[38;5;241m.\u001b[39mmax() \u001b[38;5;241m/\u001b[39m (m \u001b[38;5;241m-\u001b[39m n \u001b[38;5;241m+\u001b[39m \u001b[38;5;241m1\u001b[39m) \u001b[38;5;241m<\u001b[39m eps_reduced_chi2\n\u001b[1;32m     79\u001b[0m     ):\n",
      "\u001b[0;31mRuntimeError\u001b[0m: The size of tensor a (2) must match the size of tensor b (15) at non-singleton dimension 1"
     ]
    }
   ],
   "source": [
    "# Point in the source plane\n",
    "sp_x = torch.tensor((0.2, -1)).reshape(2)\n",
    "sp_y = torch.tensor((0.2, -1)).reshape(2)\n",
    "print(sp_x.shape, sp_y.shape)\n",
    "res = caustic.forward_raytrace(\n",
    "    sp_x, \n",
    "    sp_y, \n",
    "    lambda x, y: torch.stack(lens.reduced_deflection_angle(x, y, z_s = z_s)), \n",
    "    n_images = 4,\n",
    "    thetax_range = (-fov/2, fov/2),\n",
    "    thetay_range = (-fov/2, fov/2),\n",
    ")"
   ]
  },
  {
   "cell_type": "code",
   "execution_count": null,
   "id": "37ed0ebe",
   "metadata": {},
   "outputs": [],
   "source": []
  }
 ],
 "metadata": {
  "kernelspec": {
   "display_name": "PY39",
   "language": "python",
   "name": "py39"
  },
  "language_info": {
   "codemirror_mode": {
    "name": "ipython",
    "version": 3
   },
   "file_extension": ".py",
   "mimetype": "text/x-python",
   "name": "python",
   "nbconvert_exporter": "python",
   "pygments_lexer": "ipython3",
   "version": "3.9.5"
  }
 },
 "nbformat": 4,
 "nbformat_minor": 5
}
